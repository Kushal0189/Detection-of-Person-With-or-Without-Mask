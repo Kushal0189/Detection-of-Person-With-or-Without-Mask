{
  "nbformat": 4,
  "nbformat_minor": 0,
  "metadata": {
    "colab": {
      "name": "vgg.ipynb",
      "provenance": [],
      "collapsed_sections": [],
      "mount_file_id": "1vBXnKgfE4bru87k-QIDOZahREVbR1NH1",
      "authorship_tag": "ABX9TyPVA1dZmrWr0bUa54OG2Gcu",
      "include_colab_link": true
    },
    "kernelspec": {
      "name": "python3",
      "display_name": "Python 3"
    }
  },
  "cells": [
    {
      "cell_type": "markdown",
      "metadata": {
        "id": "view-in-github",
        "colab_type": "text"
      },
      "source": [
        "<a href=\"https://colab.research.google.com/github/pritul2/person_with_mask_detection/blob/master/vgg16.ipynb\" target=\"_parent\"><img src=\"https://colab.research.google.com/assets/colab-badge.svg\" alt=\"Open In Colab\"/></a>"
      ]
    },
    {
      "cell_type": "markdown",
      "metadata": {
        "id": "RXUaA5bn97tP",
        "colab_type": "text"
      },
      "source": [
        "# Run from here"
      ]
    },
    {
      "cell_type": "code",
      "metadata": {
        "id": "0j8YNUIlvAo4",
        "colab_type": "code",
        "outputId": "ae09bbe4-7d50-440c-f1b1-8006b570108d",
        "colab": {
          "base_uri": "https://localhost:8080/",
          "height": 1000
        }
      },
      "source": [
        "!unzip /content/CROPPED_train.zip"
      ],
      "execution_count": 0,
      "outputs": [
        {
          "output_type": "stream",
          "text": [
            "Archive:  /content/CROPPED_train.zip\n",
            "   creating: CROPPED_train/\n",
            "   creating: CROPPED_train/withmask_cropped/\n",
            "  inflating: CROPPED_train/withmask_cropped/withmask30.png  \n",
            "   creating: __MACOSX/CROPPED_train/\n",
            "   creating: __MACOSX/CROPPED_train/withmask_cropped/\n",
            "  inflating: __MACOSX/CROPPED_train/withmask_cropped/._withmask30.png  \n",
            "  inflating: CROPPED_train/withmask_cropped/withmask24.png  \n",
            "  inflating: __MACOSX/CROPPED_train/withmask_cropped/._withmask24.png  \n",
            "  inflating: CROPPED_train/withmask_cropped/withmask18.png  \n",
            "  inflating: __MACOSX/CROPPED_train/withmask_cropped/._withmask18.png  \n",
            "  inflating: CROPPED_train/withmask_cropped/withmask19.png  \n",
            "  inflating: __MACOSX/CROPPED_train/withmask_cropped/._withmask19.png  \n",
            "  inflating: CROPPED_train/withmask_cropped/withmask25.png  \n",
            "  inflating: __MACOSX/CROPPED_train/withmask_cropped/._withmask25.png  \n",
            "  inflating: CROPPED_train/withmask_cropped/withmask31.png  \n",
            "  inflating: __MACOSX/CROPPED_train/withmask_cropped/._withmask31.png  \n",
            "  inflating: CROPPED_train/withmask_cropped/withmask27.png  \n",
            "  inflating: __MACOSX/CROPPED_train/withmask_cropped/._withmask27.png  \n",
            "  inflating: CROPPED_train/withmask_cropped/withmask33.png  \n",
            "  inflating: __MACOSX/CROPPED_train/withmask_cropped/._withmask33.png  \n",
            "  inflating: CROPPED_train/withmask_cropped/withmask32.png  \n",
            "  inflating: __MACOSX/CROPPED_train/withmask_cropped/._withmask32.png  \n",
            "  inflating: CROPPED_train/withmask_cropped/withmask26.png  \n",
            "  inflating: __MACOSX/CROPPED_train/withmask_cropped/._withmask26.png  \n",
            "  inflating: CROPPED_train/withmask_cropped/withmask22.png  \n",
            "  inflating: __MACOSX/CROPPED_train/withmask_cropped/._withmask22.png  \n",
            "  inflating: CROPPED_train/withmask_cropped/withmask36.png  \n",
            "  inflating: __MACOSX/CROPPED_train/withmask_cropped/._withmask36.png  \n",
            "  inflating: CROPPED_train/withmask_cropped/withmask37.png  \n",
            "  inflating: __MACOSX/CROPPED_train/withmask_cropped/._withmask37.png  \n",
            "  inflating: CROPPED_train/withmask_cropped/withmask23.png  \n",
            "  inflating: __MACOSX/CROPPED_train/withmask_cropped/._withmask23.png  \n",
            "  inflating: CROPPED_train/withmask_cropped/withmask35.png  \n",
            "  inflating: __MACOSX/CROPPED_train/withmask_cropped/._withmask35.png  \n",
            "  inflating: CROPPED_train/withmask_cropped/withmask21.png  \n",
            "  inflating: __MACOSX/CROPPED_train/withmask_cropped/._withmask21.png  \n",
            "  inflating: CROPPED_train/withmask_cropped/withmask20.png  \n",
            "  inflating: __MACOSX/CROPPED_train/withmask_cropped/._withmask20.png  \n",
            "  inflating: CROPPED_train/withmask_cropped/withmask34.png  \n",
            "  inflating: __MACOSX/CROPPED_train/withmask_cropped/._withmask34.png  \n",
            "  inflating: CROPPED_train/withmask_cropped/withmask6.png  \n",
            "  inflating: __MACOSX/CROPPED_train/withmask_cropped/._withmask6.png  \n",
            "  inflating: CROPPED_train/withmask_cropped/withmask47.png  \n",
            "  inflating: __MACOSX/CROPPED_train/withmask_cropped/._withmask47.png  \n",
            "  inflating: CROPPED_train/withmask_cropped/withmask46.png  \n",
            "  inflating: __MACOSX/CROPPED_train/withmask_cropped/._withmask46.png  \n",
            "  inflating: CROPPED_train/withmask_cropped/withmask7.png  \n",
            "  inflating: __MACOSX/CROPPED_train/withmask_cropped/._withmask7.png  \n",
            "  inflating: CROPPED_train/withmask_cropped/withmask44.png  \n",
            "  inflating: __MACOSX/CROPPED_train/withmask_cropped/._withmask44.png  \n",
            "  inflating: CROPPED_train/withmask_cropped/withmask5.png  \n",
            "  inflating: __MACOSX/CROPPED_train/withmask_cropped/._withmask5.png  \n",
            "  inflating: CROPPED_train/withmask_cropped/withmask4.png  \n",
            "  inflating: __MACOSX/CROPPED_train/withmask_cropped/._withmask4.png  \n",
            "  inflating: CROPPED_train/withmask_cropped/withmask45.png  \n",
            "  inflating: __MACOSX/CROPPED_train/withmask_cropped/._withmask45.png  \n",
            "  inflating: CROPPED_train/withmask_cropped/withmask41.png  \n",
            "  inflating: __MACOSX/CROPPED_train/withmask_cropped/._withmask41.png  \n",
            "  inflating: CROPPED_train/withmask_cropped/withmask1.png  \n",
            "  inflating: __MACOSX/CROPPED_train/withmask_cropped/._withmask1.png  \n",
            "  inflating: CROPPED_train/withmask_cropped/withmask40.png  \n",
            "  inflating: __MACOSX/CROPPED_train/withmask_cropped/._withmask40.png  \n",
            "  inflating: CROPPED_train/withmask_cropped/withmask3.png  \n",
            "  inflating: __MACOSX/CROPPED_train/withmask_cropped/._withmask3.png  \n",
            "  inflating: CROPPED_train/withmask_cropped/withmask42.png  \n",
            "  inflating: __MACOSX/CROPPED_train/withmask_cropped/._withmask42.png  \n",
            "  inflating: CROPPED_train/withmask_cropped/withmask43.png  \n",
            "  inflating: __MACOSX/CROPPED_train/withmask_cropped/._withmask43.png  \n",
            "  inflating: CROPPED_train/withmask_cropped/withmask2.png  \n",
            "  inflating: __MACOSX/CROPPED_train/withmask_cropped/._withmask2.png  \n",
            "  inflating: CROPPED_train/withmask_cropped/withmask9.png  \n",
            "  inflating: __MACOSX/CROPPED_train/withmask_cropped/._withmask9.png  \n",
            "  inflating: CROPPED_train/withmask_cropped/withmask8.png  \n",
            "  inflating: __MACOSX/CROPPED_train/withmask_cropped/._withmask8.png  \n",
            "  inflating: CROPPED_train/withmask_cropped/withmask11.png  \n",
            "  inflating: __MACOSX/CROPPED_train/withmask_cropped/._withmask11.png  \n",
            "  inflating: CROPPED_train/withmask_cropped/withmask39.png  \n",
            "  inflating: __MACOSX/CROPPED_train/withmask_cropped/._withmask39.png  \n",
            "  inflating: CROPPED_train/withmask_cropped/withmask38.png  \n",
            "  inflating: __MACOSX/CROPPED_train/withmask_cropped/._withmask38.png  \n",
            "  inflating: CROPPED_train/withmask_cropped/withmask10.png  \n",
            "  inflating: __MACOSX/CROPPED_train/withmask_cropped/._withmask10.png  \n",
            "  inflating: CROPPED_train/withmask_cropped/withmask12.png  \n",
            "  inflating: __MACOSX/CROPPED_train/withmask_cropped/._withmask12.png  \n",
            "  inflating: CROPPED_train/withmask_cropped/withmask13.png  \n",
            "  inflating: __MACOSX/CROPPED_train/withmask_cropped/._withmask13.png  \n",
            "  inflating: CROPPED_train/withmask_cropped/withmask17.png  \n",
            "  inflating: __MACOSX/CROPPED_train/withmask_cropped/._withmask17.png  \n",
            "  inflating: CROPPED_train/withmask_cropped/withmask16.png  \n",
            "  inflating: __MACOSX/CROPPED_train/withmask_cropped/._withmask16.png  \n",
            "  inflating: CROPPED_train/withmask_cropped/withmask28.png  \n",
            "  inflating: __MACOSX/CROPPED_train/withmask_cropped/._withmask28.png  \n",
            "  inflating: CROPPED_train/withmask_cropped/withmask14.png  \n",
            "  inflating: __MACOSX/CROPPED_train/withmask_cropped/._withmask14.png  \n",
            "  inflating: CROPPED_train/withmask_cropped/withmask15.png  \n",
            "  inflating: __MACOSX/CROPPED_train/withmask_cropped/._withmask15.png  \n",
            "  inflating: CROPPED_train/withmask_cropped/withmask29.png  \n",
            "  inflating: __MACOSX/CROPPED_train/withmask_cropped/._withmask29.png  \n",
            "  inflating: __MACOSX/CROPPED_train/._withmask_cropped  \n",
            "   creating: CROPPED_train/without_mask2_output/\n",
            "  inflating: CROPPED_train/without_mask2_output/48.png  \n",
            "   creating: __MACOSX/CROPPED_train/without_mask2_output/\n",
            "  inflating: __MACOSX/CROPPED_train/without_mask2_output/._48.png  \n",
            "  inflating: CROPPED_train/without_mask2_output/49.png  \n",
            "  inflating: __MACOSX/CROPPED_train/without_mask2_output/._49.png  \n",
            "  inflating: CROPPED_train/without_mask2_output/8.png  \n",
            "  inflating: __MACOSX/CROPPED_train/without_mask2_output/._8.png  \n",
            "  inflating: CROPPED_train/without_mask2_output/9.png  \n",
            "  inflating: __MACOSX/CROPPED_train/without_mask2_output/._9.png  \n",
            "  inflating: CROPPED_train/without_mask2_output/14.png  \n",
            "  inflating: __MACOSX/CROPPED_train/without_mask2_output/._14.png  \n",
            "  inflating: CROPPED_train/without_mask2_output/28.png  \n",
            "  inflating: __MACOSX/CROPPED_train/without_mask2_output/._28.png  \n",
            "  inflating: CROPPED_train/without_mask2_output/29.png  \n",
            "  inflating: __MACOSX/CROPPED_train/without_mask2_output/._29.png  \n",
            "  inflating: CROPPED_train/without_mask2_output/15.png  \n",
            "  inflating: __MACOSX/CROPPED_train/without_mask2_output/._15.png  \n",
            "  inflating: CROPPED_train/without_mask2_output/17.png  \n",
            "  inflating: __MACOSX/CROPPED_train/without_mask2_output/._17.png  \n",
            "  inflating: CROPPED_train/without_mask2_output/16.png  \n",
            "  inflating: __MACOSX/CROPPED_train/without_mask2_output/._16.png  \n",
            "  inflating: CROPPED_train/without_mask2_output/12.png  \n",
            "  inflating: __MACOSX/CROPPED_train/without_mask2_output/._12.png  \n",
            "  inflating: CROPPED_train/without_mask2_output/13.png  \n",
            "  inflating: __MACOSX/CROPPED_train/without_mask2_output/._13.png  \n",
            "  inflating: CROPPED_train/without_mask2_output/39.png  \n",
            "  inflating: __MACOSX/CROPPED_train/without_mask2_output/._39.png  \n",
            "  inflating: CROPPED_train/without_mask2_output/11.png  \n",
            "  inflating: __MACOSX/CROPPED_train/without_mask2_output/._11.png  \n",
            "  inflating: CROPPED_train/without_mask2_output/10.png  \n",
            "  inflating: __MACOSX/CROPPED_train/without_mask2_output/._10.png  \n",
            "  inflating: CROPPED_train/without_mask2_output/38.png  \n",
            "  inflating: __MACOSX/CROPPED_train/without_mask2_output/._38.png  \n",
            "  inflating: CROPPED_train/without_mask2_output/35.png  \n",
            "  inflating: __MACOSX/CROPPED_train/without_mask2_output/._35.png  \n",
            "  inflating: CROPPED_train/without_mask2_output/21.png  \n",
            "  inflating: __MACOSX/CROPPED_train/without_mask2_output/._21.png  \n",
            "  inflating: CROPPED_train/without_mask2_output/20.png  \n",
            "  inflating: __MACOSX/CROPPED_train/without_mask2_output/._20.png  \n",
            "  inflating: CROPPED_train/without_mask2_output/34.png  \n",
            "  inflating: __MACOSX/CROPPED_train/without_mask2_output/._34.png  \n",
            "  inflating: CROPPED_train/without_mask2_output/22.png  \n",
            "  inflating: __MACOSX/CROPPED_train/without_mask2_output/._22.png  \n",
            "  inflating: CROPPED_train/without_mask2_output/36.png  \n",
            "  inflating: __MACOSX/CROPPED_train/without_mask2_output/._36.png  \n",
            "  inflating: CROPPED_train/without_mask2_output/37.png  \n",
            "  inflating: __MACOSX/CROPPED_train/without_mask2_output/._37.png  \n",
            "  inflating: CROPPED_train/without_mask2_output/23.png  \n",
            "  inflating: __MACOSX/CROPPED_train/without_mask2_output/._23.png  \n",
            "  inflating: CROPPED_train/without_mask2_output/27.png  \n",
            "  inflating: __MACOSX/CROPPED_train/without_mask2_output/._27.png  \n",
            "  inflating: CROPPED_train/without_mask2_output/33.png  \n",
            "  inflating: __MACOSX/CROPPED_train/without_mask2_output/._33.png  \n",
            "  inflating: CROPPED_train/without_mask2_output/32.png  \n",
            "  inflating: __MACOSX/CROPPED_train/without_mask2_output/._32.png  \n",
            "  inflating: CROPPED_train/without_mask2_output/26.png  \n",
            "  inflating: __MACOSX/CROPPED_train/without_mask2_output/._26.png  \n",
            "  inflating: CROPPED_train/without_mask2_output/18.png  \n",
            "  inflating: __MACOSX/CROPPED_train/without_mask2_output/._18.png  \n",
            "  inflating: CROPPED_train/without_mask2_output/30.png  \n",
            "  inflating: __MACOSX/CROPPED_train/without_mask2_output/._30.png  \n",
            "  inflating: CROPPED_train/without_mask2_output/24.png  \n",
            "  inflating: __MACOSX/CROPPED_train/without_mask2_output/._24.png  \n",
            "  inflating: CROPPED_train/without_mask2_output/25.png  \n",
            "  inflating: __MACOSX/CROPPED_train/without_mask2_output/._25.png  \n",
            "  inflating: CROPPED_train/without_mask2_output/31.png  \n",
            "  inflating: __MACOSX/CROPPED_train/without_mask2_output/._31.png  \n",
            "  inflating: CROPPED_train/without_mask2_output/19.png  \n",
            "  inflating: __MACOSX/CROPPED_train/without_mask2_output/._19.png  \n",
            "  inflating: CROPPED_train/without_mask2_output/4.png  \n",
            "  inflating: __MACOSX/CROPPED_train/without_mask2_output/._4.png  \n",
            "  inflating: CROPPED_train/without_mask2_output/56.png  \n",
            "  inflating: __MACOSX/CROPPED_train/without_mask2_output/._56.png  \n",
            "  inflating: CROPPED_train/without_mask2_output/42.png  \n",
            "  inflating: __MACOSX/CROPPED_train/without_mask2_output/._42.png  \n",
            "  inflating: CROPPED_train/without_mask2_output/43.png  \n",
            "  inflating: __MACOSX/CROPPED_train/without_mask2_output/._43.png  \n",
            "  inflating: CROPPED_train/without_mask2_output/5.png  \n",
            "  inflating: __MACOSX/CROPPED_train/without_mask2_output/._5.png  \n",
            "  inflating: CROPPED_train/without_mask2_output/57.png  \n",
            "  inflating: __MACOSX/CROPPED_train/without_mask2_output/._57.png  \n",
            "  inflating: CROPPED_train/without_mask2_output/41.png  \n",
            "  inflating: __MACOSX/CROPPED_train/without_mask2_output/._41.png  \n",
            "  inflating: CROPPED_train/without_mask2_output/55.png  \n",
            "  inflating: __MACOSX/CROPPED_train/without_mask2_output/._55.png  \n",
            "  inflating: CROPPED_train/without_mask2_output/7.png  \n",
            "  inflating: __MACOSX/CROPPED_train/without_mask2_output/._7.png  \n",
            "  inflating: CROPPED_train/without_mask2_output/54.png  \n",
            "  inflating: __MACOSX/CROPPED_train/without_mask2_output/._54.png  \n",
            "  inflating: CROPPED_train/without_mask2_output/6.png  \n",
            "  inflating: __MACOSX/CROPPED_train/without_mask2_output/._6.png  \n",
            "  inflating: CROPPED_train/without_mask2_output/40.png  \n",
            "  inflating: __MACOSX/CROPPED_train/without_mask2_output/._40.png  \n",
            "  inflating: CROPPED_train/without_mask2_output/44.png  \n",
            "  inflating: __MACOSX/CROPPED_train/without_mask2_output/._44.png  \n",
            "  inflating: CROPPED_train/without_mask2_output/2.png  \n",
            "  inflating: __MACOSX/CROPPED_train/without_mask2_output/._2.png  \n",
            "  inflating: CROPPED_train/without_mask2_output/50.png  \n",
            "  inflating: __MACOSX/CROPPED_train/without_mask2_output/._50.png  \n",
            "  inflating: CROPPED_train/without_mask2_output/3.png  \n",
            "  inflating: __MACOSX/CROPPED_train/without_mask2_output/._3.png  \n",
            "  inflating: CROPPED_train/without_mask2_output/51.png  \n",
            "  inflating: __MACOSX/CROPPED_train/without_mask2_output/._51.png  \n",
            "  inflating: CROPPED_train/without_mask2_output/45.png  \n",
            "  inflating: __MACOSX/CROPPED_train/without_mask2_output/._45.png  \n",
            "  inflating: CROPPED_train/without_mask2_output/53.png  \n",
            "  inflating: __MACOSX/CROPPED_train/without_mask2_output/._53.png  \n",
            "  inflating: CROPPED_train/without_mask2_output/1.png  \n",
            "  inflating: __MACOSX/CROPPED_train/without_mask2_output/._1.png  \n",
            "  inflating: CROPPED_train/without_mask2_output/47.png  \n",
            "  inflating: __MACOSX/CROPPED_train/without_mask2_output/._47.png  \n",
            "  inflating: CROPPED_train/without_mask2_output/46.png  \n",
            "  inflating: __MACOSX/CROPPED_train/without_mask2_output/._46.png  \n",
            "  inflating: CROPPED_train/without_mask2_output/52.png  \n",
            "  inflating: __MACOSX/CROPPED_train/without_mask2_output/._52.png  \n",
            "  inflating: __MACOSX/CROPPED_train/._without_mask2_output  \n"
          ],
          "name": "stdout"
        }
      ]
    },
    {
      "cell_type": "code",
      "metadata": {
        "id": "Jn1myv8ro60n",
        "colab_type": "code",
        "outputId": "65a24f57-e50e-44e5-cfcd-121b7ee351fd",
        "colab": {
          "base_uri": "https://localhost:8080/",
          "height": 953
        }
      },
      "source": [
        "from keras.models import Sequential\n",
        "from keras import layers\n",
        "from keras.layers import Conv2D, MaxPooling2D, Dropout, Flatten, Dense, Activation,GlobalMaxPooling2D\n",
        "from keras import applications\n",
        "from keras.preprocessing.image import ImageDataGenerator\n",
        "from keras import optimizers\n",
        "from keras.applications import VGG16\n",
        "from keras.models import Model\n",
        "\n",
        "image_size = 224\n",
        "input_shape = (image_size, image_size, 3)\n",
        "\n",
        "epochs = 30\n",
        "batch_size = 16\n",
        "\n",
        "pre_trained_model = VGG16(input_shape=input_shape, include_top=False, weights=\"imagenet\")\n",
        "    \n",
        "for layer in pre_trained_model.layers[:15]:\n",
        "    layer.trainable = False\n",
        "\n",
        "for layer in pre_trained_model.layers[15:]:\n",
        "    layer.trainable = True\n",
        "    \n",
        "last_layer = pre_trained_model.get_layer('block5_pool')\n",
        "last_output = last_layer.output\n",
        "    \n",
        "# Flatten the output layer to 1 dimension\n",
        "x = GlobalMaxPooling2D()(last_output)\n",
        "# Add a fully connected layer with 512 hidden units and ReLU activation\n",
        "x = Dense(512, activation='relu')(x)\n",
        "# Add a dropout rate of 0.5\n",
        "x = Dropout(0.5)(x)\n",
        "# Add a final sigmoid layer for classification\n",
        "x = layers.Dense(2, activation='sigmoid')(x)\n",
        "\n",
        "model = Model(pre_trained_model.input, x)\n",
        "\n",
        "model.compile(loss='binary_crossentropy',\n",
        "              optimizer=optimizers.SGD(lr=1e-4, momentum=0.9),\n",
        "              metrics=['accuracy'])\n",
        "\n",
        "model.summary()"
      ],
      "execution_count": 0,
      "outputs": [
        {
          "output_type": "stream",
          "text": [
            "Model: \"model_18\"\n",
            "_________________________________________________________________\n",
            "Layer (type)                 Output Shape              Param #   \n",
            "=================================================================\n",
            "input_20 (InputLayer)        (None, 224, 224, 3)       0         \n",
            "_________________________________________________________________\n",
            "block1_conv1 (Conv2D)        (None, 224, 224, 64)      1792      \n",
            "_________________________________________________________________\n",
            "block1_conv2 (Conv2D)        (None, 224, 224, 64)      36928     \n",
            "_________________________________________________________________\n",
            "block1_pool (MaxPooling2D)   (None, 112, 112, 64)      0         \n",
            "_________________________________________________________________\n",
            "block2_conv1 (Conv2D)        (None, 112, 112, 128)     73856     \n",
            "_________________________________________________________________\n",
            "block2_conv2 (Conv2D)        (None, 112, 112, 128)     147584    \n",
            "_________________________________________________________________\n",
            "block2_pool (MaxPooling2D)   (None, 56, 56, 128)       0         \n",
            "_________________________________________________________________\n",
            "block3_conv1 (Conv2D)        (None, 56, 56, 256)       295168    \n",
            "_________________________________________________________________\n",
            "block3_conv2 (Conv2D)        (None, 56, 56, 256)       590080    \n",
            "_________________________________________________________________\n",
            "block3_conv3 (Conv2D)        (None, 56, 56, 256)       590080    \n",
            "_________________________________________________________________\n",
            "block3_pool (MaxPooling2D)   (None, 28, 28, 256)       0         \n",
            "_________________________________________________________________\n",
            "block4_conv1 (Conv2D)        (None, 28, 28, 512)       1180160   \n",
            "_________________________________________________________________\n",
            "block4_conv2 (Conv2D)        (None, 28, 28, 512)       2359808   \n",
            "_________________________________________________________________\n",
            "block4_conv3 (Conv2D)        (None, 28, 28, 512)       2359808   \n",
            "_________________________________________________________________\n",
            "block4_pool (MaxPooling2D)   (None, 14, 14, 512)       0         \n",
            "_________________________________________________________________\n",
            "block5_conv1 (Conv2D)        (None, 14, 14, 512)       2359808   \n",
            "_________________________________________________________________\n",
            "block5_conv2 (Conv2D)        (None, 14, 14, 512)       2359808   \n",
            "_________________________________________________________________\n",
            "block5_conv3 (Conv2D)        (None, 14, 14, 512)       2359808   \n",
            "_________________________________________________________________\n",
            "block5_pool (MaxPooling2D)   (None, 7, 7, 512)         0         \n",
            "_________________________________________________________________\n",
            "global_max_pooling2d_12 (Glo (None, 512)               0         \n",
            "_________________________________________________________________\n",
            "dense_49 (Dense)             (None, 512)               262656    \n",
            "_________________________________________________________________\n",
            "dropout_12 (Dropout)         (None, 512)               0         \n",
            "_________________________________________________________________\n",
            "dense_50 (Dense)             (None, 2)                 1026      \n",
            "=================================================================\n",
            "Total params: 14,978,370\n",
            "Trainable params: 7,343,106\n",
            "Non-trainable params: 7,635,264\n",
            "_________________________________________________________________\n"
          ],
          "name": "stdout"
        }
      ]
    },
    {
      "cell_type": "code",
      "metadata": {
        "id": "mzaOSlIDpIzD",
        "colab_type": "code",
        "colab": {}
      },
      "source": [
        "\n",
        "\n",
        "# validate_df = validate_df.sample(n=100).reset_index() # use for fast testing code purpose\n",
        "# train_df = train_df.sample(n=1800).reset_index() # use for fast testing code purpose\n",
        "\n",
        "total_train  = len(os.listdir(\"/content/CROPPED_train/withmask_cropped\")) + len(os.listdir(\"/content/CROPPED_train/without_mask2_output\"))"
      ],
      "execution_count": 0,
      "outputs": []
    },
    {
      "cell_type": "code",
      "metadata": {
        "id": "YqQumMPccPO5",
        "colab_type": "code",
        "outputId": "7c87076f-ba16-4681-d779-d67b7b9eb031",
        "colab": {
          "base_uri": "https://localhost:8080/",
          "height": 34
        }
      },
      "source": [
        "print(total_train)"
      ],
      "execution_count": 0,
      "outputs": [
        {
          "output_type": "stream",
          "text": [
            "104\n"
          ],
          "name": "stdout"
        }
      ]
    },
    {
      "cell_type": "code",
      "metadata": {
        "id": "y0OhZ1xxpUoF",
        "colab_type": "code",
        "colab": {}
      },
      "source": [
        "train_datagen = ImageDataGenerator(rescale=1./255,rotation_range=15,\n",
        "    shear_range=0.2,\n",
        "    zoom_range=0.2,\n",
        "    horizontal_flip=True,\n",
        "    fill_mode='nearest',\n",
        "    width_shift_range=0.1,\n",
        "    height_shift_range=0.1)"
      ],
      "execution_count": 0,
      "outputs": []
    },
    {
      "cell_type": "code",
      "metadata": {
        "id": "feHwojhGp06Z",
        "colab_type": "code",
        "outputId": "bc2de0d1-9d32-4068-d12a-66a9081f4d6d",
        "colab": {
          "base_uri": "https://localhost:8080/",
          "height": 34
        }
      },
      "source": [
        "train_generator = train_datagen.flow_from_directory('/content/CROPPED_train',target_size=(224,224),batch_size = 16)"
      ],
      "execution_count": 0,
      "outputs": [
        {
          "output_type": "stream",
          "text": [
            "Found 104 images belonging to 2 classes.\n"
          ],
          "name": "stdout"
        }
      ]
    },
    {
      "cell_type": "code",
      "metadata": {
        "id": "U2OzaY79rHQE",
        "colab_type": "code",
        "outputId": "e7ed5f95-209f-4334-f3af-d35d724aec02",
        "colab": {
          "base_uri": "https://localhost:8080/",
          "height": 34
        }
      },
      "source": [
        "validation_datagen = ImageDataGenerator(rescale=1./255)\n",
        "validation_generator = validation_datagen.flow_from_directory('/content/my_data_testing',target_size=(224,224),batch_size = 16)"
      ],
      "execution_count": 0,
      "outputs": [
        {
          "output_type": "stream",
          "text": [
            "Found 48 images belonging to 2 classes.\n"
          ],
          "name": "stdout"
        }
      ]
    },
    {
      "cell_type": "code",
      "metadata": {
        "id": "6QdVWJK287TL",
        "colab_type": "code",
        "outputId": "456096d0-af86-419d-8c81-c456eaf3af10",
        "colab": {
          "base_uri": "https://localhost:8080/",
          "height": 34
        }
      },
      "source": [
        "print(total_validate)"
      ],
      "execution_count": 0,
      "outputs": [
        {
          "output_type": "stream",
          "text": [
            "48\n"
          ],
          "name": "stdout"
        }
      ]
    },
    {
      "cell_type": "code",
      "metadata": {
        "id": "JwMbWDJaueif",
        "colab_type": "code",
        "outputId": "ff25c6cd-8785-40ff-b263-15491cb40a75",
        "colab": {
          "base_uri": "https://localhost:8080/",
          "height": 1000
        }
      },
      "source": [
        "history = model.fit_generator(\n",
        "    train_generator,\n",
        "    epochs=100,\n",
        "    steps_per_epoch=total_train//batch_size)"
      ],
      "execution_count": 0,
      "outputs": [
        {
          "output_type": "stream",
          "text": [
            "Epoch 1/100\n",
            "6/6 [==============================] - 54s 9s/step - loss: 0.8216 - accuracy: 0.5398\n",
            "Epoch 2/100\n",
            "6/6 [==============================] - 59s 10s/step - loss: 0.8495 - accuracy: 0.5104\n",
            "Epoch 3/100\n",
            "6/6 [==============================] - 49s 8s/step - loss: 0.7553 - accuracy: 0.5625\n",
            "Epoch 4/100\n",
            "6/6 [==============================] - 56s 9s/step - loss: 0.6668 - accuracy: 0.5966\n",
            "Epoch 5/100\n",
            "6/6 [==============================] - 54s 9s/step - loss: 0.6988 - accuracy: 0.5682\n",
            "Epoch 6/100\n",
            "6/6 [==============================] - 59s 10s/step - loss: 0.7491 - accuracy: 0.5312\n",
            "Epoch 7/100\n",
            "6/6 [==============================] - 54s 9s/step - loss: 0.6913 - accuracy: 0.5739\n",
            "Epoch 8/100\n",
            "6/6 [==============================] - 52s 9s/step - loss: 0.7192 - accuracy: 0.5341\n",
            "Epoch 9/100\n",
            "6/6 [==============================] - 54s 9s/step - loss: 0.6766 - accuracy: 0.6023\n",
            "Epoch 10/100\n",
            "6/6 [==============================] - 58s 10s/step - loss: 0.6562 - accuracy: 0.6354\n",
            "Epoch 11/100\n",
            "6/6 [==============================] - 54s 9s/step - loss: 0.6556 - accuracy: 0.6307\n",
            "Epoch 12/100\n",
            "6/6 [==============================] - 54s 9s/step - loss: 0.6533 - accuracy: 0.6534\n",
            "Epoch 13/100\n",
            "6/6 [==============================] - 53s 9s/step - loss: 0.6152 - accuracy: 0.6420\n",
            "Epoch 14/100\n",
            "6/6 [==============================] - 53s 9s/step - loss: 0.6446 - accuracy: 0.6534\n",
            "Epoch 15/100\n",
            "6/6 [==============================] - 58s 10s/step - loss: 0.6036 - accuracy: 0.6927\n",
            "Epoch 16/100\n",
            "6/6 [==============================] - 48s 8s/step - loss: 0.6211 - accuracy: 0.6500\n",
            "Epoch 17/100\n",
            "6/6 [==============================] - 53s 9s/step - loss: 0.6239 - accuracy: 0.6705\n",
            "Epoch 18/100\n",
            "6/6 [==============================] - 53s 9s/step - loss: 0.6490 - accuracy: 0.6080\n",
            "Epoch 19/100\n",
            "6/6 [==============================] - 58s 10s/step - loss: 0.5635 - accuracy: 0.6927\n",
            "Epoch 20/100\n",
            "6/6 [==============================] - 54s 9s/step - loss: 0.5390 - accuracy: 0.7102\n",
            "Epoch 21/100\n",
            "6/6 [==============================] - 54s 9s/step - loss: 0.5313 - accuracy: 0.6989\n",
            "Epoch 22/100\n",
            "6/6 [==============================] - 52s 9s/step - loss: 0.4757 - accuracy: 0.8125\n",
            "Epoch 23/100\n",
            "6/6 [==============================] - 59s 10s/step - loss: 0.4966 - accuracy: 0.7760\n",
            "Epoch 24/100\n",
            "6/6 [==============================] - 54s 9s/step - loss: 0.5298 - accuracy: 0.7500\n",
            "Epoch 25/100\n",
            "6/6 [==============================] - 54s 9s/step - loss: 0.4777 - accuracy: 0.8125\n",
            "Epoch 26/100\n",
            "6/6 [==============================] - 55s 9s/step - loss: 0.5104 - accuracy: 0.7557\n",
            "Epoch 27/100\n",
            "6/6 [==============================] - 53s 9s/step - loss: 0.5012 - accuracy: 0.7500\n",
            "Epoch 28/100\n",
            "6/6 [==============================] - 54s 9s/step - loss: 0.4503 - accuracy: 0.7898\n",
            "Epoch 29/100\n",
            "6/6 [==============================] - 52s 9s/step - loss: 0.4379 - accuracy: 0.8409\n",
            "Epoch 30/100\n",
            "6/6 [==============================] - 53s 9s/step - loss: 0.3971 - accuracy: 0.8580\n",
            "Epoch 31/100\n",
            "6/6 [==============================] - 58s 10s/step - loss: 0.4571 - accuracy: 0.8073\n",
            "Epoch 32/100\n",
            "6/6 [==============================] - 53s 9s/step - loss: 0.3809 - accuracy: 0.8693\n",
            "Epoch 33/100\n",
            "6/6 [==============================] - 53s 9s/step - loss: 0.4109 - accuracy: 0.8580\n",
            "Epoch 34/100\n",
            "6/6 [==============================] - 52s 9s/step - loss: 0.4008 - accuracy: 0.8409\n",
            "Epoch 35/100\n",
            "6/6 [==============================] - 53s 9s/step - loss: 0.4024 - accuracy: 0.8466\n",
            "Epoch 36/100\n",
            "6/6 [==============================] - 51s 9s/step - loss: 0.3493 - accuracy: 0.9205\n",
            "Epoch 37/100\n",
            "6/6 [==============================] - 53s 9s/step - loss: 0.3070 - accuracy: 0.9148\n",
            "Epoch 38/100\n",
            "6/6 [==============================] - 54s 9s/step - loss: 0.3286 - accuracy: 0.9034\n",
            "Epoch 39/100\n",
            "6/6 [==============================] - 53s 9s/step - loss: 0.3646 - accuracy: 0.8750\n",
            "Epoch 40/100\n",
            "6/6 [==============================] - 53s 9s/step - loss: 0.2869 - accuracy: 0.9318\n",
            "Epoch 41/100\n",
            "6/6 [==============================] - 53s 9s/step - loss: 0.3036 - accuracy: 0.9205\n",
            "Epoch 42/100\n",
            "6/6 [==============================] - 58s 10s/step - loss: 0.2925 - accuracy: 0.9115\n",
            "Epoch 43/100\n",
            "6/6 [==============================] - 52s 9s/step - loss: 0.2859 - accuracy: 0.9091\n",
            "Epoch 44/100\n",
            "6/6 [==============================] - 58s 10s/step - loss: 0.2336 - accuracy: 0.9583\n",
            "Epoch 45/100\n",
            "6/6 [==============================] - 53s 9s/step - loss: 0.2517 - accuracy: 0.9261\n",
            "Epoch 46/100\n",
            "6/6 [==============================] - 48s 8s/step - loss: 0.2870 - accuracy: 0.8938\n",
            "Epoch 47/100\n",
            "6/6 [==============================] - 53s 9s/step - loss: 0.2102 - accuracy: 0.9602\n",
            "Epoch 48/100\n",
            "6/6 [==============================] - 58s 10s/step - loss: 0.2544 - accuracy: 0.9167\n",
            "Epoch 49/100\n",
            "6/6 [==============================] - 56s 9s/step - loss: 0.2785 - accuracy: 0.9148\n",
            "Epoch 50/100\n",
            "6/6 [==============================] - 58s 10s/step - loss: 0.2262 - accuracy: 0.9479\n",
            "Epoch 51/100\n",
            "6/6 [==============================] - 49s 8s/step - loss: 0.2238 - accuracy: 0.9375\n",
            "Epoch 52/100\n",
            "6/6 [==============================] - 54s 9s/step - loss: 0.2045 - accuracy: 0.9602\n",
            "Epoch 53/100\n",
            "6/6 [==============================] - 59s 10s/step - loss: 0.1725 - accuracy: 0.9583\n",
            "Epoch 54/100\n",
            "6/6 [==============================] - 49s 8s/step - loss: 0.1813 - accuracy: 0.9812\n",
            "Epoch 55/100\n",
            "6/6 [==============================] - 58s 10s/step - loss: 0.1816 - accuracy: 0.9531\n",
            "Epoch 56/100\n",
            "6/6 [==============================] - 54s 9s/step - loss: 0.1744 - accuracy: 0.9716\n",
            "Epoch 57/100\n",
            "6/6 [==============================] - 53s 9s/step - loss: 0.1541 - accuracy: 0.9773\n",
            "Epoch 58/100\n",
            "6/6 [==============================] - 54s 9s/step - loss: 0.1728 - accuracy: 0.9602\n",
            "Epoch 59/100\n",
            "6/6 [==============================] - 58s 10s/step - loss: 0.1555 - accuracy: 0.9635\n",
            "Epoch 60/100\n",
            "6/6 [==============================] - 50s 8s/step - loss: 0.1454 - accuracy: 0.9500\n",
            "Epoch 61/100\n",
            "6/6 [==============================] - 58s 10s/step - loss: 0.1505 - accuracy: 0.9792\n",
            "Epoch 62/100\n",
            "6/6 [==============================] - 54s 9s/step - loss: 0.1466 - accuracy: 0.9716\n",
            "Epoch 63/100\n",
            "6/6 [==============================] - 54s 9s/step - loss: 0.1483 - accuracy: 0.9602\n",
            "Epoch 64/100\n",
            "6/6 [==============================] - 58s 10s/step - loss: 0.1700 - accuracy: 0.9427\n",
            "Epoch 65/100\n",
            "6/6 [==============================] - 49s 8s/step - loss: 0.1535 - accuracy: 0.9563\n",
            "Epoch 66/100\n",
            "6/6 [==============================] - 59s 10s/step - loss: 0.1444 - accuracy: 0.9583\n",
            "Epoch 67/100\n",
            "6/6 [==============================] - 54s 9s/step - loss: 0.1347 - accuracy: 0.9602\n",
            "Epoch 68/100\n",
            "6/6 [==============================] - 49s 8s/step - loss: 0.1083 - accuracy: 0.9937\n",
            "Epoch 69/100\n",
            "6/6 [==============================] - 59s 10s/step - loss: 0.1511 - accuracy: 0.9479\n",
            "Epoch 70/100\n",
            "6/6 [==============================] - 54s 9s/step - loss: 0.1168 - accuracy: 0.9716\n",
            "Epoch 71/100\n",
            "6/6 [==============================] - 54s 9s/step - loss: 0.1130 - accuracy: 0.9830\n",
            "Epoch 72/100\n",
            "6/6 [==============================] - 59s 10s/step - loss: 0.1225 - accuracy: 0.9688\n",
            "Epoch 73/100\n",
            "6/6 [==============================] - 54s 9s/step - loss: 0.1116 - accuracy: 0.9773\n",
            "Epoch 74/100\n",
            "6/6 [==============================] - 54s 9s/step - loss: 0.1171 - accuracy: 0.9773\n",
            "Epoch 75/100\n",
            "6/6 [==============================] - 54s 9s/step - loss: 0.0836 - accuracy: 0.9943\n",
            "Epoch 76/100\n",
            "6/6 [==============================] - 54s 9s/step - loss: 0.1135 - accuracy: 0.9716\n",
            "Epoch 77/100\n",
            "6/6 [==============================] - 54s 9s/step - loss: 0.0956 - accuracy: 0.9886\n",
            "Epoch 78/100\n",
            "6/6 [==============================] - 53s 9s/step - loss: 0.1070 - accuracy: 0.9773\n",
            "Epoch 79/100\n",
            "6/6 [==============================] - 59s 10s/step - loss: 0.0916 - accuracy: 0.9792\n",
            "Epoch 80/100\n",
            "6/6 [==============================] - 54s 9s/step - loss: 0.0808 - accuracy: 0.9830\n",
            "Epoch 81/100\n",
            "6/6 [==============================] - 49s 8s/step - loss: 0.1037 - accuracy: 0.9688\n",
            "Epoch 82/100\n",
            "6/6 [==============================] - 58s 10s/step - loss: 0.0865 - accuracy: 0.9792\n",
            "Epoch 83/100\n",
            "6/6 [==============================] - 55s 9s/step - loss: 0.1050 - accuracy: 0.9773\n",
            "Epoch 84/100\n",
            "6/6 [==============================] - 53s 9s/step - loss: 0.0866 - accuracy: 0.9886\n",
            "Epoch 85/100\n",
            "6/6 [==============================] - 52s 9s/step - loss: 0.0947 - accuracy: 0.9886\n",
            "Epoch 86/100\n",
            "6/6 [==============================] - 58s 10s/step - loss: 0.0779 - accuracy: 0.9896\n",
            "Epoch 87/100\n",
            "6/6 [==============================] - 49s 8s/step - loss: 0.1091 - accuracy: 0.9625\n",
            "Epoch 88/100\n",
            "6/6 [==============================] - 53s 9s/step - loss: 0.1050 - accuracy: 0.9716\n",
            "Epoch 89/100\n",
            "6/6 [==============================] - 58s 10s/step - loss: 0.0679 - accuracy: 0.9844\n",
            "Epoch 90/100\n",
            "6/6 [==============================] - 54s 9s/step - loss: 0.0856 - accuracy: 0.9716\n",
            "Epoch 91/100\n",
            "6/6 [==============================] - 53s 9s/step - loss: 0.0728 - accuracy: 0.9886\n",
            "Epoch 92/100\n",
            "6/6 [==============================] - 52s 9s/step - loss: 0.0830 - accuracy: 0.9773\n",
            "Epoch 93/100\n",
            "6/6 [==============================] - 54s 9s/step - loss: 0.0870 - accuracy: 0.9773\n",
            "Epoch 94/100\n",
            "6/6 [==============================] - 55s 9s/step - loss: 0.0845 - accuracy: 0.9830\n",
            "Epoch 95/100\n",
            "6/6 [==============================] - 54s 9s/step - loss: 0.0605 - accuracy: 0.9943\n",
            "Epoch 96/100\n",
            "6/6 [==============================] - 59s 10s/step - loss: 0.0665 - accuracy: 0.9792\n",
            "Epoch 97/100\n",
            "6/6 [==============================] - 49s 8s/step - loss: 0.0828 - accuracy: 0.9812\n",
            "Epoch 98/100\n",
            "6/6 [==============================] - 58s 10s/step - loss: 0.0485 - accuracy: 0.9896\n",
            "Epoch 99/100\n",
            "6/6 [==============================] - 57s 10s/step - loss: 0.0585 - accuracy: 0.9948\n",
            "Epoch 100/100\n",
            "6/6 [==============================] - 49s 8s/step - loss: 0.0559 - accuracy: 1.0000\n"
          ],
          "name": "stdout"
        }
      ]
    },
    {
      "cell_type": "code",
      "metadata": {
        "id": "fq8jV_i0yvj9",
        "colab_type": "code",
        "outputId": "d8f01854-cf10-4705-ccbe-dd664a15319a",
        "colab": {
          "base_uri": "https://localhost:8080/",
          "height": 34
        }
      },
      "source": [
        "loss, accuracy = model.evaluate_generator(validation_generator, total_validate//batch_size, workers=12)\n",
        "print(\"Test: accuracy = %f  ;  loss = %f \" % (accuracy, loss))"
      ],
      "execution_count": 0,
      "outputs": [
        {
          "output_type": "stream",
          "text": [
            "Test: accuracy = 0.520833  ;  loss = 1.322935 \n"
          ],
          "name": "stdout"
        }
      ]
    },
    {
      "cell_type": "code",
      "metadata": {
        "id": "LcAoHreUufgM",
        "colab_type": "code",
        "colab": {}
      },
      "source": [
        "y_pred =  model.predict_generator(validation_generator)\n",
        "threshold = 0.5\n",
        "y_final = np.where(y_pred > threshold, 1,0)"
      ],
      "execution_count": 0,
      "outputs": []
    },
    {
      "cell_type": "code",
      "metadata": {
        "id": "JjQCG8h_6DQ2",
        "colab_type": "code",
        "outputId": "de5c1d23-7588-43c4-b367-cbb03f868603",
        "colab": {
          "base_uri": "https://localhost:8080/",
          "height": 286
        }
      },
      "source": [
        "img = cv2.imread(\"/content/CROPPED_train/withmask_cropped/withmask3.png\")\n",
        "img  = cv2.resize(img,(224,224))\n",
        "plt.imshow(img)\n",
        "plt.show()\n",
        "y= model.predict(img[np.newaxis,...])\n",
        "print(y)"
      ],
      "execution_count": 0,
      "outputs": [
        {
          "output_type": "display_data",
          "data": {
            "image/png": "[encoded data removed]",
            "text/plain": [
              "<Figure size 432x288 with 1 Axes>"
            ]
          },
          "metadata": {
            "tags": [],
            "needs_background": "light"
          }
        },
        {
          "output_type": "stream",
          "text": [
            "[[1. 0.]]\n"
          ],
          "name": "stdout"
        }
      ]
    },
    {
      "cell_type": "code",
      "metadata": {
        "id": "N8cdYOEE6XDA",
        "colab_type": "code",
        "colab": {}
      },
      "source": [
        "model.save(\"/content/drive/My Drive/vgg_mask.h5\")"
      ],
      "execution_count": 0,
      "outputs": []
    },
    {
      "cell_type": "code",
      "metadata": {
        "id": "1QW-SSi0agKX",
        "colab_type": "code",
        "colab": {}
      },
      "source": [
        ""
      ],
      "execution_count": 0,
      "outputs": []
    }
  ]
}